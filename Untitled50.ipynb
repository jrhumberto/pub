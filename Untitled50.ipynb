{
  "nbformat": 4,
  "nbformat_minor": 0,
  "metadata": {
    "colab": {
      "provenance": [],
      "authorship_tag": "ABX9TyPLTaWvnXbY5hi3DOSwRZCh",
      "include_colab_link": true
    },
    "kernelspec": {
      "name": "python3",
      "display_name": "Python 3"
    },
    "language_info": {
      "name": "python"
    }
  },
  "cells": [
    {
      "cell_type": "markdown",
      "metadata": {
        "id": "view-in-github",
        "colab_type": "text"
      },
      "source": [
        "<a href=\"https://colab.research.google.com/github/jrhumberto/pub/blob/main/Untitled50.ipynb\" target=\"_parent\"><img src=\"https://colab.research.google.com/assets/colab-badge.svg\" alt=\"Open In Colab\"/></a>"
      ]
    },
    {
      "cell_type": "code",
      "source": [],
      "metadata": {
        "id": "PCDtYjblRUzL"
      },
      "execution_count": null,
      "outputs": []
    },
    {
      "cell_type": "code",
      "execution_count": 1,
      "metadata": {
        "id": "-cy6Ut2YRTQO"
      },
      "outputs": [],
      "source": [
        "import numpy as np\n",
        "import pandas as pd\n",
        "import torch\n",
        "from torch.utils.data import Dataset, DataLoader\n",
        "from transformers import BertForSequenceClassification, BertTokenizer, pipeline\n",
        "from sklearn import preprocessing\n",
        "from tqdm import tqdm"
      ]
    },
    {
      "cell_type": "code",
      "source": [
        "# Flags de controle e hiperparametros\n",
        "MAX_LENGTH = 512\n",
        "\n",
        "TRAIN_RATIO = 0.7\n",
        "VAL_RATIO = 0.2\n",
        "TEST_RATIO = 0.1\n",
        "\n",
        "BATCH_SIZE = 16\n",
        "\n",
        "# Configuracao da CPU/GPU\n",
        "device = torch.device(\"cuda:0\" if (torch.cuda.is_available()) else \"cpu\")"
      ],
      "metadata": {
        "id": "FkAE-7IsRYIC"
      },
      "execution_count": 2,
      "outputs": []
    },
    {
      "cell_type": "code",
      "source": [
        "print(f\"Utilizando para processamento: {device}\")"
      ],
      "metadata": {
        "colab": {
          "base_uri": "https://localhost:8080/"
        },
        "id": "JNJSYFLvRYQa",
        "outputId": "0989d33b-e6a3-4fe8-ece2-26a0dcb4f285"
      },
      "execution_count": 3,
      "outputs": [
        {
          "output_type": "stream",
          "name": "stdout",
          "text": [
            "Utilizando para processamento: cpu\n"
          ]
        }
      ]
    },
    {
      "cell_type": "code",
      "source": [
        "df = pd.read_csv(\"../input/imdb-ptbr/imdb-reviews-pt-br.csv\")"
      ],
      "metadata": {
        "id": "2D7Byk-pRYT6"
      },
      "execution_count": null,
      "outputs": []
    },
    {
      "cell_type": "code",
      "source": [
        "print(f\"Tamanho da base: {len(df)}\")"
      ],
      "metadata": {
        "id": "9RVcCASsRYXK"
      },
      "execution_count": null,
      "outputs": []
    },
    {
      "cell_type": "code",
      "source": [
        "df['sentiments'].value_counts()"
      ],
      "metadata": {
        "id": "c1B6Q31vRYai"
      },
      "execution_count": null,
      "outputs": []
    },
    {
      "cell_type": "code",
      "source": [
        "df"
      ],
      "metadata": {
        "id": "xWt7s2Q2RYdi"
      },
      "execution_count": null,
      "outputs": []
    },
    {
      "cell_type": "code",
      "source": [
        "bert_en = pipeline(\"sentiment_analysis\")"
      ],
      "metadata": {
        "id": "l7EgasSURYgz"
      },
      "execution_count": null,
      "outputs": []
    },
    {
      "cell_type": "code",
      "source": [
        "test_instance = 100\n",
        "\n",
        "df['text_en' ][test_instance], bert_en(df['text_en'][test_instance])\n",
        "\n"
      ],
      "metadata": {
        "id": "lQMwVSpCRYkb"
      },
      "execution_count": null,
      "outputs": []
    },
    {
      "cell_type": "code",
      "source": [
        "tokenizer = BertTokenizer.from_pretrained('neuralmind/bert-base-portuguese-cased')"
      ],
      "metadata": {
        "id": "v8bZwqWYRYnz"
      },
      "execution_count": null,
      "outputs": []
    },
    {
      "cell_type": "code",
      "source": [
        "# 'df_tokenized' sera um dicionario com as keys ['idout_ids', 'token_type_ide', 'attention_mask']\n",
        "# 'input_ids -> instancias tokenizadas\n",
        "# 'token_type_ids' -> mascara usada em tarefas de classificacao de frases em pares (sera descartada nesta task)\n",
        "# 'attention_mask' -> mascara de atencao que destaca para o modelo os tokens de padding [PAD]\n",
        "df_tokenized = tokenizer.batch_encode_plus(df['text_pt'], return_tensors='pt', padding=True, truncation=True, max_length=MAX_LENGTH)"
      ],
      "metadata": {
        "id": "QJbfW8gqRYrC"
      },
      "execution_count": null,
      "outputs": []
    },
    {
      "cell_type": "code",
      "source": [
        "print(df_tokenized['input_ids'].shape, df_tokenized['attention_mask'].shape)"
      ],
      "metadata": {
        "id": "9AXUprn3RYvL"
      },
      "execution_count": null,
      "outputs": []
    },
    {
      "cell_type": "code",
      "source": [
        "# [0, DATASET_LEN, MAX_LENGTH] = input_ids\n",
        "# [1, DATASET_LEN, MAX_LENGTH T= attention_mask\n",
        "X = torch.stack((df_tokenized[\"input_ids\"], df_tokenized[\"attention_mask\"]), dim=0)\n",
        "\n",
        "df['sentiment'] = df['sentiment' ].apply(lambda x: 0 if x == 'neg' else 1)\n",
        "y = torch.Tensor(df ['sentiment' ].to_numpy())"
      ],
      "metadata": {
        "id": "AvoVBGG6RYyr"
      },
      "execution_count": null,
      "outputs": []
    },
    {
      "cell_type": "code",
      "source": [
        "class TextDataset(Dataset) :\n",
        "\n",
        "def __init__ (self, X, y):\n",
        "\n",
        "self.X = X\n",
        "self.X = self.X.to(device)\n",
        "\n",
        "self.y = y\n",
        "self.y = self.y.to(device)\n",
        "\n",
        "self.len = len(y)\n",
        "\n",
        "def __len_(self):\n",
        "    return self.len\n",
        "\n",
        "def __getitem__(self, idx):\n",
        "    return self.X[ :, idx], self.y[idx]"
      ],
      "metadata": {
        "id": "uu9d3A7IY7R0"
      },
      "execution_count": null,
      "outputs": []
    },
    {
      "cell_type": "code",
      "source": [
        "dataset = TextDataset(X, y)\n",
        "\n",
        "# Calculo do numero de instancias que devem existir em cada split\n",
        "num_train_instances = np.int(np.round(dataset.len * TRAIN_RATIO))\n",
        "num_val_instances = np.int(np.round(dataset.len * VAL_RATIO))\n",
        "num_test_instances = np.int(np.round(dataset.len * TEST_RATIO))\n",
        "print(f\"Treino: (num_train_instances), Val: (num_val_instances}, Teste: (num_test_instances}\")\n",
        "\n",
        "train_split, val_split, test_split = torch.utils.data.random_split(dataset, [num_train_instances, num_val_instances, num_test_instances])\n",
        "\n",
        "train_loader = torch.utils.data.DataLoader(train_split, batch_size=BATCH_SIZE, shuffle=True)\n",
        "val_loader = torch.utils.data.DataLoader(val_split, batch_size=BATCH_SIZE, shuffle=True)\n",
        "test_loader = torch.utils.data.DataLoader(test_split, batch_size=BATCH_SIZE, shuffle=True)"
      ],
      "metadata": {
        "id": "8OQlwIegY7VM"
      },
      "execution_count": null,
      "outputs": []
    },
    {
      "cell_type": "code",
      "source": [
        "epochs = 40\n",
        "steps_per_epoch = 200\n",
        "epoch_validation_samples = 50\n",
        "\n",
        "model = BertForSequenceClassification.from_pretrained('neuralmind/bert-base-portuguese-cased\").to(device)\n",
        "for param in model.base_model.parameters() :\n",
        "    param.requires_grad = True\n",
        "\n",
        "loss_func = torch.nn.CrossEntropyLoss()\n",
        "optim = torch.optim.Adam(model.parameters())\n",
        "\n",
        "acc_calc = lambda output, labels : (labels == output.argmax(axis=1)).sum()\n",
        "\n",
        "scheduler = torch.optim.lr_scheduler.ExponentialLR(optim, 0.9997)"
      ],
      "metadata": {
        "id": "YqInb0VYY6kD"
      },
      "execution_count": null,
      "outputs": []
    },
    {
      "cell_type": "code",
      "source": [
        "epoch_metadata = []\n",
        "\n",
        "for i in range(epochs) :\n",
        "\n",
        "    num_train_examples = 0\n",
        "    num_val_examples = 0\n",
        "\n",
        "    train_hits = 0\n",
        "    val_hits = 0\n",
        "\n",
        "    train_bar = tqdm(total=steps_per_epoch, desc=f\"Train\", unit= \"steps\", position=0, leave=True)\n",
        "    val_bar = tqdm(total=epoch_validation_samples, desc=f\"Val\", unit= \"samples\", position=8, leave=True)\n",
        "\n",
        "    for batch_number. (features, labels) in enumerate(train_loader):\n",
        "\n",
        "        train_running_loss = 0\n",
        "\n",
        "        model.train()\n",
        "\n",
        "        input_ids, input_masks = features[:, 0, :]. features[:, 1, :]\n",
        "        loss, logits = model(input_ids, input_masks, labels=labels.long())\n",
        "\n",
        "        optim.zero_grad()\n",
        "        loss.backward()\n",
        "        optim.step()\n",
        "\n",
        "        train_running_loss += loss.item()\n",
        "\n",
        "        softmax_predictions = torch.nn.functional. softmax(logits, dim=1)\n",
        "        train_hits += acc_calc(softmax_predictions, labels)\n",
        "\n",
        "        # Updating our display bar\n",
        "        train_bar.update(1)\n",
        "\n",
        "        num_train_examples += features.shape[ 0]\n",
        "\n",
        "        scheduler.step()\n",
        "\n",
        "        # Breaking ofter a certain amount of steps in the current epoch.\n",
        "        if (batch_number + 1) % steps_per_epoch == 0:\n",
        "            train_bar.close()\n",
        "\n",
        "    for batch_number, (features, labels) in enumerate(val_loader):\n",
        "        with torch.no_grad():\n",
        "            val_running_loss = 0\n",
        "\n",
        "            model.eval()\n",
        "\n",
        "            input_ids, input_masks = features[:, 0, :], features[:, 1, :]\n",
        "\n",
        "            loss, logits = model(input_ids, input_masks, labels=labels.long())\n",
        "\n",
        "            val_running_loss += loss.item()\n",
        "\n",
        "            softmax_predictions = torch.nn.functional.softmax(logits, dim=1)\n",
        "            val_hits += acc_calc(softmax_predictions, labels)\n",
        "\n",
        "            num_val_examples += features.shape[0]\n",
        "\n",
        "            # Updating our display bar\n",
        "            val_bar.update(1)\n",
        "\n",
        "            # Breaking after a certain amount of steps in the current epoch ...\n",
        "            if (batch_number + 1) % epoch_validation_samples == 0:\n",
        "                val_bar.close()\n",
        "                break\n",
        "\n",
        "    train_acc = torch.true_divide(train_hits, num_train_examples)\n",
        "    val_acc = torch.true_divide(val_hits, num_val_examples)\n",
        "\n",
        "    print(f\"EPOCH SUMMARY - {i + |} \\t Train loss: (train_running_loss) \\t Train Acc: (train_acc) \\t Val loss: (val_running_loss} \\t Val Acc: (val_acc}\")\n",
        "\n",
        "\n"
      ],
      "metadata": {
        "id": "_cVF3EbtY6r7"
      },
      "execution_count": null,
      "outputs": []
    },
    {
      "cell_type": "code",
      "source": [
        "model.save_pretrained(f\"epoch_{i}\")"
      ],
      "metadata": {
        "id": "TgLc2rtnY6vL"
      },
      "execution_count": null,
      "outputs": []
    },
    {
      "cell_type": "code",
      "source": [
        "num_test_examples = 0\n",
        "\n",
        "train_hits = 0\n",
        "test_hits = 0\n",
        "\n",
        "test_running_loss = 0\n",
        "\n",
        "for batch_number, (features, labels) in enumerate(test_loader):\n",
        "    with torch.no_grad():\n",
        "        test_running_loss = 0\n",
        "\n",
        "        model.eval()\n",
        "\n",
        "        input_ids, input_masks = features[:, 0, :], features[ :, 1, :]\n",
        "\n",
        "        loss, logits = model(input_ids, input_masks, labels=labels.long())\n",
        "\n",
        "        test_running_loss += loss.item()\n",
        "\n",
        "        softmax_predictions = torch.nn. functional.softmax(logits, dimx )\n",
        "        test_hits += acc_calc(softmax_predictions, labels)\n",
        "\n",
        "        num_test_examples += features. shape[8]"
      ],
      "metadata": {
        "id": "hPKPZjeVRY3T"
      },
      "execution_count": null,
      "outputs": []
    },
    {
      "cell_type": "code",
      "source": [
        "from IPython.display import FileLink\n",
        "FileLink('/kaggle/working/checkpoints/epoch_39' + '/config.json')\n",
        "FileLink('/kaggle/working/checkpoints/epoch_39' + '/pytorch_model.bin')"
      ],
      "metadata": {
        "id": "hIzgr3F8Y6yq"
      },
      "execution_count": null,
      "outputs": []
    }
  ]
}